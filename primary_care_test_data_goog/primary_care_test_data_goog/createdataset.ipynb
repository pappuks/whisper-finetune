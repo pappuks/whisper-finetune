{
 "cells": [
  {
   "cell_type": "code",
   "execution_count": 2,
   "metadata": {},
   "outputs": [
    {
     "name": "stderr",
     "output_type": "stream",
     "text": [
      "/home/dibba/work/github/whisper-finetune/venv/lib/python3.12/site-packages/tqdm/auto.py:21: TqdmWarning: IProgress not found. Please update jupyter and ipywidgets. See https://ipywidgets.readthedocs.io/en/stable/user_install.html\n",
      "  from .autonotebook import tqdm as notebook_tqdm\n"
     ]
    }
   ],
   "source": [
    "from datasets import load_dataset\n",
    "\n",
    "dataset = load_dataset(\"audiofolder\", data_dir=\".\")"
   ]
  },
  {
   "cell_type": "code",
   "execution_count": 2,
   "metadata": {},
   "outputs": [
    {
     "data": {
      "text/plain": [
       "DatasetDict({\n",
       "    test: Dataset({\n",
       "        features: ['audio', 'transcription'],\n",
       "        num_rows: 25930\n",
       "    })\n",
       "})"
      ]
     },
     "execution_count": 2,
     "metadata": {},
     "output_type": "execute_result"
    }
   ],
   "source": [
    "dataset"
   ]
  },
  {
   "cell_type": "code",
   "execution_count": 3,
   "metadata": {},
   "outputs": [
    {
     "name": "stdout",
     "output_type": "stream",
     "text": [
      "{'audio': {'path': '/home/dibba/work/github/whisper-finetune/primary_care_test_data_goog/primary_care_test_data_goog/test_data/anatomy/Abdomen_1.mp3', 'array': array([0., 0., 0., ..., 0., 0., 0.]), 'sampling_rate': 16000}, 'transcription': 'Abdomen'}\n"
     ]
    }
   ],
   "source": [
    "print(dataset['test'][0])"
   ]
  },
  {
   "cell_type": "code",
   "execution_count": 4,
   "metadata": {},
   "outputs": [
    {
     "name": "stdout",
     "output_type": "stream",
     "text": [
      "/home/dibba/work/github/whisper-finetune/primary_care_test_data_goog/primary_care_test_data_goog/test_data/anatomy/Abdomen_1.mp3\n"
     ]
    }
   ],
   "source": [
    "print(dataset['test'][0]['audio']['path'])"
   ]
  },
  {
   "cell_type": "code",
   "execution_count": 4,
   "metadata": {},
   "outputs": [
    {
     "name": "stdout",
     "output_type": "stream",
     "text": [
      "[0, 1, 2, 3, 4, 5, 6, 7, 11, 14]\n",
      "[8, 9, 10, 12, 13, 29, 30, 31, 33, 34]\n"
     ]
    }
   ],
   "source": [
    "test_index = []\n",
    "train_index = []\n",
    "\n",
    "test_set = [\"_17.mp3\", \"_18.mp3\", \"_19.mp3\", \"_20.mp3\", \"_21.mp3\"]\n",
    "\n",
    "for index, item in enumerate(dataset['test']):\n",
    "    if any(ext in str(item['audio']['path']) for ext in test_set):\n",
    "        test_index.append(index)\n",
    "    else :\n",
    "        train_index.append(index)\n",
    "\n",
    "print(train_index[:10])\n",
    "print(test_index[:10])"
   ]
  },
  {
   "cell_type": "code",
   "execution_count": 7,
   "metadata": {},
   "outputs": [
    {
     "data": {
      "text/plain": [
       "DatasetDict({\n",
       "    train: Dataset({\n",
       "        features: ['audio', 'transcription'],\n",
       "        num_rows: 19755\n",
       "    })\n",
       "    test: Dataset({\n",
       "        features: ['audio', 'transcription'],\n",
       "        num_rows: 6175\n",
       "    })\n",
       "})"
      ]
     },
     "execution_count": 7,
     "metadata": {},
     "output_type": "execute_result"
    }
   ],
   "source": [
    "import datasets\n",
    "\n",
    "train_split = dataset['test'].select(\n",
    "    indices=train_index\n",
    ")\n",
    "test_split = dataset['test'].select(\n",
    "    indices=test_index\n",
    ")\n",
    "\n",
    "datasets.DatasetDict({\"train\": train_split, \"test\": test_split})"
   ]
  },
  {
   "cell_type": "code",
   "execution_count": 8,
   "metadata": {},
   "outputs": [],
   "source": [
    "primary_care_hf_goog = datasets.DatasetDict({\"train\": train_split, \"test\": test_split})"
   ]
  },
  {
   "cell_type": "code",
   "execution_count": 9,
   "metadata": {},
   "outputs": [
    {
     "name": "stderr",
     "output_type": "stream",
     "text": [
      "Saving the dataset (1/1 shards): 100%|██████████| 19755/19755 [00:01<00:00, 15126.25 examples/s]\n",
      "Saving the dataset (1/1 shards): 100%|██████████| 6175/6175 [00:00<00:00, 11375.53 examples/s]\n"
     ]
    }
   ],
   "source": [
    "primary_care_hf_goog.save_to_disk(\"/home/dibba/work/github/whisper-finetune/primary_care_hf_goog\")"
   ]
  },
  {
   "cell_type": "code",
   "execution_count": null,
   "metadata": {},
   "outputs": [],
   "source": []
  }
 ],
 "metadata": {
  "kernelspec": {
   "display_name": "venv",
   "language": "python",
   "name": "python3"
  },
  "language_info": {
   "codemirror_mode": {
    "name": "ipython",
    "version": 3
   },
   "file_extension": ".py",
   "mimetype": "text/x-python",
   "name": "python",
   "nbconvert_exporter": "python",
   "pygments_lexer": "ipython3",
   "version": "3.12.3"
  }
 },
 "nbformat": 4,
 "nbformat_minor": 2
}
